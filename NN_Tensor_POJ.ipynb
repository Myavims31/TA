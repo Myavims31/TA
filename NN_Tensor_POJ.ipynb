{
  "cells": [
    {
      "cell_type": "code",
      "execution_count": null,
      "metadata": {
        "id": "aW7uNpFwSFKy"
      },
      "outputs": [],
      "source": [
        "import numpy as np\n",
        "import pandas as pd\n",
        "import tensorflow as tf\n",
        "from tensorflow.keras.utils import to_categorical\n",
        "from tensorflow.keras import layers\n",
        "from sklearn.model_selection import train_test_split\n",
        "import keras\n",
        "from keras.models import Sequential\n",
        "from keras.layers import Dense\n",
        "from keras.layers import Activation\n",
        "from keras.layers import Dropout\n",
        "from keras.layers import LSTM\n",
        "from tensorflow.keras import backend as K\n",
        "# from google.colab import files\n",
        "# from google.colab import drive\n",
        "from tensorflow.keras.callbacks import Callback\n",
        "import matplotlib.pyplot as plt"
      ]
    },
    {
      "cell_type": "code",
      "execution_count": null,
      "metadata": {
        "id": "bUER9BB3UQ0f"
      },
      "outputs": [],
      "source": [
        "# Create a sequential neural network model\n",
        "dnn_model=tf.keras.models.Sequential([\n",
        "    tf.keras.layers.Dense(50),\n",
        "    tf.keras.layers.Activation('relu'),\n",
        "    tf.keras.layers.Dense(50),\n",
        "    tf.keras.layers.Activation('relu'),\n",
        "    # tf.keras.layers.Dense(400),\n",
        "    # tf.keras.layers.Activation('relu'),\n",
        "    # tf.keras.layers.Dense(200),\n",
        "    # tf.keras.layers.Activation('relu'),\n",
        "    # #tf.keras.layers.Dropout(0.4),\n",
        "    # tf.keras.layers.Dense(20),\n",
        "    # tf.keras.layers.Activation('relu'),\n",
        "    # tf.keras.layers.Dropout(0.4),\n",
        "    tf.keras.layers.Dense(4, activation=\"linear\")\n",
        "])"
      ]
    },
    {
      "cell_type": "code",
      "execution_count": null,
      "metadata": {
        "id": "jmNkE2d4mMzW"
      },
      "outputs": [],
      "source": [
        "#costom loss function\n",
        "def rmse(y_true, y_pred):\n",
        "  return K.sqrt(K.mean(K.square(y_pred-y_true)))\n",
        "\n",
        "def lms(y_true,y_pred):\n",
        "  return (K.square(y_pred-y_true))/2\n"
      ]
    },
    {
      "cell_type": "code",
      "execution_count": null,
      "metadata": {
        "id": "S3zFmlB6U8Vs"
      },
      "outputs": [],
      "source": [
        "# Compile the model with least mean square loss and Adam optimizer\n",
        "dnn_model.compile(loss=lms, optimizer=tf.keras.optimizers.Adam(learning_rate=0.001)) #metrics=['mse'])"
      ]
    },
    {
      "cell_type": "code",
      "execution_count": null,
      "metadata": {
        "id": "lsKyz--fcSoT"
      },
      "outputs": [],
      "source": [
        "df = pd.read_csv('J1_Atas Bawah.csv')\n",
        "df.dropna(inplace=True)\n",
        "\n",
        "df = df.sample(frac = 1)\n",
        "\n",
        "X = df[['x', 'y', 'z', 'roll', 'pitch', 'yaw']]\n",
        "y = df[['theta1', 'theta2', 'theta3', 'theta4']]\n",
        "\n",
        "train_size = int(0.80 * len(df))\n",
        "X_train, X_test = X.iloc[:train_size], X.iloc[train_size:]\n",
        "y_train, y_test = y.iloc[:train_size], y.iloc[train_size:]"
      ]
    },
    {
      "cell_type": "code",
      "execution_count": null,
      "metadata": {
        "id": "S7ESaAd-EDVy"
      },
      "outputs": [],
      "source": [
        "class myCallback(Callback):    \n",
        "    def on_epoch_end(self, epoch, logs={}):\n",
        "        print(\"Checking loss at end of epoch...\")\n",
        "        if logs['val_loss'] <= 0.00001:\n",
        "               self.model.stop_training = True\n",
        "        else:\n",
        "          print ('not yet...')"
      ]
    },
    {
      "cell_type": "code",
      "execution_count": null,
      "metadata": {
        "colab": {
          "base_uri": "https://localhost:8080/"
        },
        "id": "BkLCLPAWS-wY",
        "outputId": "3587eec3-068a-472d-a838-1f9392b403c3"
      },
      "outputs": [],
      "source": [
        "# Train the model on the dataset\n",
        "# epochs = 200\n",
        "# batch_size = 20\n",
        "# dnn_model.fit(X_train, y_train, validation_data=(X_test, y_test), epochs=epochs, verbose=1, batch_size=batch_size)\n",
        "loss_callback_obj = myCallback()\n",
        "dnn_model.fit(X_train, y_train, validation_data=(X_test, y_test), epochs=10000, batch_size=200, verbose=1, callbacks=[loss_callback_obj])"
      ]
    },
    {
      "cell_type": "code",
      "execution_count": null,
      "metadata": {
        "colab": {
          "base_uri": "https://localhost:8080/",
          "height": 448
        },
        "id": "jTzzO5RlaThb",
        "outputId": "a8d3d9c6-fa92-447d-d441-f421e46c6cbf"
      },
      "outputs": [],
      "source": [
        "history_df =pd.DataFrame(dnn_model.history.history)\n",
        "loss_plot = history_df[['loss', 'val_loss']].plot()\n",
        "fig = loss_plot.get_figure()\n",
        "fig.savefig('E:/ACA/File ITS/Jurusan/Kuliah Akademik/kuliah semester 8/Tugas Akhir/Dokumentasi/Grafik/Grafik Error PO/e1_h2_n50_n50 (e0.00001).png')\n",
        "#fig.savefig('E:/ACA/File ITS/Jurusan/Kuliah Akademik/kuliah semester 8/Tugas Akhir/Dokumentasi/Grafik/Grafik Error PO/e1_h5_n50_n500_n400_n200_n20 (lr0.1 e0.00001).png')"
      ]
    },
    {
      "cell_type": "code",
      "execution_count": null,
      "metadata": {
        "colab": {
          "base_uri": "https://localhost:8080/"
        },
        "id": "L_EUIfHITJ9m",
        "outputId": "d388fec9-3b2f-4274-e974-de721086917b"
      },
      "outputs": [],
      "source": [
        "X_target = X_test.iloc[0:].values\n",
        "Y_target = y_test.iloc[0:].values\n",
        "\n",
        "Y_prediksi = dnn_model.predict(X_target)"
      ]
    },
    {
      "cell_type": "code",
      "execution_count": null,
      "metadata": {
        "colab": {
          "base_uri": "https://localhost:8080/",
          "height": 423
        },
        "id": "raNZoEul6MjM",
        "outputId": "51da41da-3aad-4649-919e-758227e55052"
      },
      "outputs": [],
      "source": [
        "asd = np.concatenate([X_target, Y_target, Y_prediksi], axis=1)\n",
        "column_labels = ['x','y','z','roll','pitch','yaw','theta1','theta2','theta3','theta4','theta1_Pred','theta2_pred','theta3_pred','theta4_pred']\n",
        "df = pd.DataFrame(asd, columns=column_labels)\n",
        "df"
      ]
    },
    {
      "cell_type": "code",
      "execution_count": null,
      "metadata": {
        "colab": {
          "base_uri": "https://localhost:8080/",
          "height": 913
        },
        "id": "dGly-M_PwT63",
        "outputId": "ba04bdf7-73e6-4d70-c656-4b65baaf9557"
      },
      "outputs": [],
      "source": [
        "dataf = pd.DataFrame({'theta1':Y_target[:,0], 'theta1_pred':Y_prediksi[:,0],\n",
        "                  'theta2':Y_target[:,1], 'theta2_pred':Y_prediksi[:,1],\n",
        "                  'theta3':Y_target[:,2], 'theta3_pred':Y_prediksi[:,2],\n",
        "                  'theta4':Y_target[:,3], 'theta4_pred':Y_prediksi[:,3]}).sort_values(by=['theta1'])\n",
        "\n",
        "fig, ax = plt.subplots(nrows=2, ncols=2,figsize=(10,5))\n",
        "axes = ax.flatten()\n",
        "\n",
        "axes[0].plot([i for i in range(len(dataf))], dataf['theta1'], label='theta1')\n",
        "axes[0].plot([i for i in range(len(dataf))], dataf['theta1_pred'], label='theta1_pred')\n",
        "axes[0].set_title('theta1')\n",
        "axes[0].legend(bbox_to_anchor=(1.1, 1.05))\n",
        "\n",
        "axes[1].plot([i for i in range(len(dataf))], dataf['theta2'], label='theta2')\n",
        "axes[1].plot([i for i in range(len(dataf))], dataf['theta2_pred'], label='theta2_pred')\n",
        "axes[1].set_title('theta2')\n",
        "axes[1].legend(bbox_to_anchor=(1.1, 1.05))\n",
        "\n",
        "axes[2].plot([i for i in range(len(dataf))], dataf['theta3'], label='theta3')\n",
        "axes[2].plot([i for i in range(len(dataf))], dataf['theta3_pred'], label='theta3_pred')\n",
        "axes[2].set_title('theta3')\n",
        "axes[2].legend(bbox_to_anchor=(1.1, 1.05))\n",
        "\n",
        "axes[3].plot([i for i in range(len(dataf))], dataf['theta4'], label='theta4')\n",
        "axes[3].plot([i for i in range(len(dataf))], dataf['theta4_pred'], label='theta4_pred')\n",
        "axes[3].set_title('theta4')\n",
        "axes[3].legend(bbox_to_anchor=(1.1, 1.05))\n",
        "\n",
        "plt.tight_layout()\n",
        "dataf\n",
        "plt.savefig('E:/ACA/File ITS/Jurusan/Kuliah Akademik/kuliah semester 8/Tugas Akhir/Dokumentasi/Grafik/Grafik Joint PO/J1_h2_n50_n50 (e0.00001).png')\n",
        "#plt.savefig('E:/ACA/File ITS/Jurusan/Kuliah Akademik/kuliah semester 8/Tugas Akhir/Dokumentasi/Grafik/Grafik Joint PO/J1_h5_n50_n500_n400_n200_n20(lr0.1 e0.00001).png')"
      ]
    },
    {
      "cell_type": "code",
      "execution_count": null,
      "metadata": {
        "colab": {
          "base_uri": "https://localhost:8080/"
        },
        "id": "nTaIBlBCxJdN",
        "outputId": "42aa5463-b103-4cd8-adc0-c3fd4081747b"
      },
      "outputs": [],
      "source": [
        "from sklearn.metrics import mean_squared_error\n",
        "\n",
        "mean_squared_error(Y_target, Y_prediksi)"
      ]
    },
    {
      "cell_type": "code",
      "execution_count": null,
      "metadata": {
        "colab": {
          "base_uri": "https://localhost:8080/"
        },
        "id": "oE2ZvR1S0AIE",
        "outputId": "431340c6-5d2e-4e0f-ef18-adf6df92cc2c"
      },
      "outputs": [],
      "source": [
        "rmse(Y_target, Y_prediksi)"
      ]
    },
    {
      "cell_type": "code",
      "execution_count": null,
      "metadata": {
        "colab": {
          "base_uri": "https://localhost:8080/",
          "height": 171
        },
        "id": "vT44M6VeALOI",
        "outputId": "9835807f-e462-44a7-aa92-47b4ef6f665c"
      },
      "outputs": [],
      "source": [
        "df.to_csv('E:/ACA/File ITS/Jurusan/Kuliah Akademik/kuliah semester 8/Tugas Akhir/Data/Data Hidden dan Neuron/posisi orientasi/test_h2_n50_n50 (e0.00001).csv', index=False)\n",
        "#df.to_csv('E:/ACA/File ITS/Jurusan/Kuliah Akademik/kuliah semester 8/Tugas Akhir/Data/Data Hidden dan Neuron/posisi orientasi/test_h5_n50_n500_n400_n200_n20(lr0.1 0.00001).csv', index=False)"
      ]
    },
    {
      "cell_type": "code",
      "execution_count": null,
      "metadata": {
        "id": "Vvjpac6ZCZY4"
      },
      "outputs": [],
      "source": [
        "# X_target = X_train.iloc[0:].values\n",
        "# Y_target = y_train.iloc[0:].values\n",
        "\n",
        "# Y_prediksi = dnn_model.predict(X_target)\n",
        "\n",
        "# asd = np.concatenate([Y_target, Y_prediksi], axis=1)\n",
        "# column_labels = ['theta1','theta2','theta3','theta4','P_theta1','P_theta2','P_theta3','P_theta4'];\n",
        "# df = pd.DataFrame(asd, columns=column_labels)\n",
        "# df.plot();"
      ]
    },
    {
      "cell_type": "code",
      "execution_count": null,
      "metadata": {
        "colab": {
          "base_uri": "https://localhost:8080/"
        },
        "id": "ZNTjK0pPiBWE",
        "outputId": "1e75713e-be1a-4b41-ecc7-e7c398c97044"
      },
      "outputs": [],
      "source": [
        "dnn_model.summary()"
      ]
    }
  ],
  "metadata": {
    "accelerator": "GPU",
    "colab": {
      "provenance": []
    },
    "gpuClass": "standard",
    "kernelspec": {
      "display_name": "Python 3",
      "name": "python3"
    },
    "language_info": {
      "codemirror_mode": {
        "name": "ipython",
        "version": 3
      },
      "file_extension": ".py",
      "mimetype": "text/x-python",
      "name": "python",
      "nbconvert_exporter": "python",
      "pygments_lexer": "ipython3",
      "version": "3.8.8"
    }
  },
  "nbformat": 4,
  "nbformat_minor": 0
}
